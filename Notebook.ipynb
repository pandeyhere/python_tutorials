{
  "nbformat": 4,
  "nbformat_minor": 0,
  "metadata": {
    "colab": {
      "provenance": [],
      "authorship_tag": "ABX9TyPczPph5XvmWiNrVs6HChjC",
      "include_colab_link": true
    },
    "kernelspec": {
      "name": "python3",
      "display_name": "Python 3"
    },
    "language_info": {
      "name": "python"
    }
  },
  "cells": [
    {
      "cell_type": "markdown",
      "metadata": {
        "id": "view-in-github",
        "colab_type": "text"
      },
      "source": [
        "<a href=\"https://colab.research.google.com/github/pandeyhere/python_tutorials/blob/main/Notebook.ipynb\" target=\"_parent\"><img src=\"https://colab.research.google.com/assets/colab-badge.svg\" alt=\"Open In Colab\"/></a>"
      ]
    },
    {
      "cell_type": "code",
      "execution_count": 3,
      "metadata": {
        "colab": {
          "base_uri": "https://localhost:8080/"
        },
        "id": "dStI3eDT7XCr",
        "outputId": "dc33ec0f-f23b-4454-9706-e7610045a1ce"
      },
      "outputs": [
        {
          "output_type": "stream",
          "name": "stdout",
          "text": [
            "None\n",
            "8\n",
            "None\n",
            "64\n",
            "None\n"
          ]
        }
      ],
      "source": [
        "num_list = [1,2,3,4,5]\n",
        "def my_func(i):\n",
        "  if i%2 == 0:\n",
        "    return i**3\n",
        "  else:\n",
        "    pass\n",
        "\n",
        "for i in num_list:\n",
        "  print(my_func(i))"
      ]
    },
    {
      "cell_type": "code",
      "source": [
        "transform_x = lambda x : x**3 if(x%2 == 0) else x**2\n",
        "\n",
        "for i in num_list:\n",
        "  print(transform_x(i))\n"
      ],
      "metadata": {
        "colab": {
          "base_uri": "https://localhost:8080/"
        },
        "id": "2lGuWv2DAl8-",
        "outputId": "2291e5e8-41c5-4955-e15c-bc3d9ecf5dd2"
      },
      "execution_count": 4,
      "outputs": [
        {
          "output_type": "stream",
          "name": "stdout",
          "text": [
            "1\n",
            "8\n",
            "9\n",
            "64\n",
            "25\n"
          ]
        }
      ]
    }
  ]
}